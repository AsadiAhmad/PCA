{
  "nbformat": 4,
  "nbformat_minor": 0,
  "metadata": {
    "colab": {
      "provenance": []
    },
    "kernelspec": {
      "name": "python3",
      "display_name": "Python 3"
    },
    "language_info": {
      "name": "python"
    }
  },
  "cells": [
    {
      "cell_type": "markdown",
      "source": [
        "# Step1 : Import Librarys"
      ],
      "metadata": {
        "id": "kSbbCgtWSQPU"
      }
    },
    {
      "cell_type": "code",
      "source": [
        "import numpy as np\n",
        "import math\n",
        "import matplotlib.pyplot as plt"
      ],
      "metadata": {
        "id": "QfXfHBI3SUdG"
      },
      "execution_count": null,
      "outputs": []
    },
    {
      "cell_type": "markdown",
      "source": [
        "# Step2 : Get Data"
      ],
      "metadata": {
        "id": "EnrX-5OV6PHR"
      }
    },
    {
      "cell_type": "code",
      "source": [
        "data = np.array([[3, 4],\n",
        "                 [-1, 2],\n",
        "                 [0, 1],\n",
        "                 [-3, -2],\n",
        "                 [2, -3],\n",
        "                 [1, 0],\n",
        "                 [-2, -1]], dtype=float)"
      ],
      "metadata": {
        "id": "WAySVDU86PX4"
      },
      "execution_count": null,
      "outputs": []
    },
    {
      "cell_type": "markdown",
      "source": [
        "# Step3 : Center Data"
      ],
      "metadata": {
        "id": "7Pp-2ybs6Poy"
      }
    },
    {
      "cell_type": "code",
      "source": [
        "def Calculate_Matrix_Mean(Matrix):\n",
        "    MeanX = 0\n",
        "    MeanY = 0\n",
        "    rows, cols = Matrix.shape\n",
        "    for i in range(rows):\n",
        "        MeanX += Matrix[i][0]\n",
        "        MeanY += Matrix[i][1]\n",
        "    MeanX /= rows\n",
        "    MeanY /= rows\n",
        "    return MeanX, MeanY"
      ],
      "metadata": {
        "id": "jpVvY21h6QEx"
      },
      "execution_count": null,
      "outputs": []
    },
    {
      "cell_type": "code",
      "source": [
        "def Center_Data(Matrix):\n",
        "    rows, cols = Matrix.shape\n",
        "    MeanX, MeanY =  Calculate_Matrix_Mean(data)\n",
        "    for i in range(rows):\n",
        "        Matrix[i, 0] = Matrix[i, 0] - MeanX\n",
        "        Matrix[i, 1] = Matrix[i, 1] - MeanY\n",
        "    return Matrix"
      ],
      "metadata": {
        "id": "8KtyOpnYbFR_"
      },
      "execution_count": null,
      "outputs": []
    },
    {
      "cell_type": "code",
      "source": [
        "center_data = Center_Data(data)"
      ],
      "metadata": {
        "id": "tkIKwaCOcwDG"
      },
      "execution_count": null,
      "outputs": []
    },
    {
      "cell_type": "code",
      "source": [
        "print(center_data)"
      ],
      "metadata": {
        "colab": {
          "base_uri": "https://localhost:8080/"
        },
        "id": "E3XMoLXpdKmm",
        "outputId": "06ce5dd9-643b-43a5-9f47-a3eb1a7d9d27"
      },
      "execution_count": null,
      "outputs": [
        {
          "output_type": "stream",
          "name": "stdout",
          "text": [
            "[[ 3.          3.85714286]\n",
            " [-1.          1.85714286]\n",
            " [ 0.          0.85714286]\n",
            " [-3.         -2.14285714]\n",
            " [ 2.         -3.14285714]\n",
            " [ 1.         -0.14285714]\n",
            " [-2.         -1.14285714]]\n"
          ]
        }
      ]
    },
    {
      "cell_type": "markdown",
      "source": [
        "# Step4 : Calculate Covariance Matrix"
      ],
      "metadata": {
        "id": "jtkmzO_3gR11"
      }
    },
    {
      "cell_type": "code",
      "source": [
        "def Calculate_Covariance_Matrix(Matrix):\n",
        "    n = Matrix.shape[0]\n",
        "    return (Matrix.T @ Matrix) / (n - 1)"
      ],
      "metadata": {
        "id": "WLWP8yC9geZG"
      },
      "execution_count": null,
      "outputs": []
    },
    {
      "cell_type": "code",
      "source": [
        "covariance_data = Calculate_Covariance_Matrix(center_data)"
      ],
      "metadata": {
        "id": "kWSAX7VsideW"
      },
      "execution_count": null,
      "outputs": []
    },
    {
      "cell_type": "code",
      "source": [
        "print(covariance_data)"
      ],
      "metadata": {
        "colab": {
          "base_uri": "https://localhost:8080/"
        },
        "id": "vVafKz-Wj6o6",
        "outputId": "81e50f75-ce4f-4a81-eb49-8fe367341aac"
      },
      "execution_count": null,
      "outputs": [
        {
          "output_type": "stream",
          "name": "stdout",
          "text": [
            "[[4.66666667 2.        ]\n",
            " [2.         5.80952381]]\n"
          ]
        }
      ]
    },
    {
      "cell_type": "markdown",
      "source": [
        "# Step5 : Calculate Eigenvalues"
      ],
      "metadata": {
        "id": "ee0uj5HNiiEY"
      }
    },
    {
      "cell_type": "code",
      "source": [
        "# consider ax2 + bx + c = 0\n",
        "def Calculate_Eigenvalues(Matrix):\n",
        "    a = 1\n",
        "    b = -1 * (Matrix[0, 0] + Matrix[1, 1])\n",
        "    c = (Matrix[0, 0] * Matrix[1, 1]) - (Matrix[0, 1] * Matrix[1, 0])\n",
        "    coefficients = [a, b, c]\n",
        "    return np.roots(coefficients)"
      ],
      "metadata": {
        "id": "dsUOBFnCioyy"
      },
      "execution_count": null,
      "outputs": []
    },
    {
      "cell_type": "code",
      "source": [
        "lambda1, lambda2 = Calculate_Eigenvalues(covariance_data)"
      ],
      "metadata": {
        "id": "KLaSxhkGnFS7"
      },
      "execution_count": null,
      "outputs": []
    },
    {
      "cell_type": "code",
      "source": [
        "print(lambda1, lambda2)"
      ],
      "metadata": {
        "colab": {
          "base_uri": "https://localhost:8080/"
        },
        "id": "ylviAPgynPxS",
        "outputId": "c24ed23f-c0b3-4608-c4d6-f9efe06a7a65"
      },
      "execution_count": null,
      "outputs": [
        {
          "output_type": "stream",
          "name": "stdout",
          "text": [
            "7.318126635032531 3.1580638411579467\n"
          ]
        }
      ]
    },
    {
      "cell_type": "markdown",
      "source": [
        "# Step6 : Calculate Eigenvectors"
      ],
      "metadata": {
        "id": "NdpG-zYbnZum"
      }
    },
    {
      "cell_type": "code",
      "source": [
        "def Calculate_Eigenvector(Matrix, Lambda):\n",
        "    a = Matrix[0, 0] - Lambda\n",
        "    b = Matrix[0, 1]\n",
        "    return 1, -1 * (a / b)"
      ],
      "metadata": {
        "id": "O17jkO4rngAE"
      },
      "execution_count": null,
      "outputs": []
    },
    {
      "cell_type": "code",
      "source": [
        "vector1X, vector1Y = Calculate_Eigenvector(covariance_data, lambda1)\n",
        "vector2X, vector2Y = Calculate_Eigenvector(covariance_data, lambda2)"
      ],
      "metadata": {
        "id": "AGcka1wRtlAL"
      },
      "execution_count": null,
      "outputs": []
    },
    {
      "cell_type": "code",
      "source": [
        "print(vector1X, vector1Y)\n",
        "print(vector2X, vector2Y)"
      ],
      "metadata": {
        "colab": {
          "base_uri": "https://localhost:8080/"
        },
        "id": "UxeMivZ1uGYK",
        "outputId": "1b6c9dae-b092-4a79-f631-c9c98685488e"
      },
      "execution_count": null,
      "outputs": [
        {
          "output_type": "stream",
          "name": "stdout",
          "text": [
            "1 1.325729984182932\n",
            "1 -0.7543014127543601\n"
          ]
        }
      ]
    },
    {
      "cell_type": "markdown",
      "source": [
        "# Step7 : Normalize Eigenvectors"
      ],
      "metadata": {
        "id": "KjKYudE6v7Uh"
      }
    },
    {
      "cell_type": "code",
      "source": [
        "def Normalize_Eigenvectors(VectorX, VectorY):\n",
        "    Norm = math.sqrt(VectorX**2 + VectorY**2)\n",
        "    return VectorX/Norm, VectorY/Norm"
      ],
      "metadata": {
        "id": "HMqxI2CZwBcv"
      },
      "execution_count": null,
      "outputs": []
    },
    {
      "cell_type": "code",
      "source": [
        "vector1X_norm, vector1Y_norm = Normalize_Eigenvectors(vector1X, vector1Y)\n",
        "vector2X_norm, vector2Y_norm = Normalize_Eigenvectors(vector2X, vector2Y)"
      ],
      "metadata": {
        "id": "ITMudXP6xp41"
      },
      "execution_count": null,
      "outputs": []
    },
    {
      "cell_type": "code",
      "source": [
        "print(vector1X_norm, vector1Y_norm)\n",
        "print(vector2X_norm, vector2Y_norm)"
      ],
      "metadata": {
        "colab": {
          "base_uri": "https://localhost:8080/"
        },
        "id": "fTwsIbgDyL9K",
        "outputId": "6995c227-8268-40d2-bd48-753add0840b5"
      },
      "execution_count": null,
      "outputs": [
        {
          "output_type": "stream",
          "name": "stdout",
          "text": [
            "0.6021955131444527 0.7983486481160279\n",
            "0.7983486481160276 -0.6021955131444531\n"
          ]
        }
      ]
    },
    {
      "cell_type": "markdown",
      "source": [
        "# Step8 : Form the transformation Matrix P"
      ],
      "metadata": {
        "id": "aiKVBkjHyZW7"
      }
    },
    {
      "cell_type": "code",
      "source": [
        "p = np.array([[vector1X_norm, vector2X_norm],\n",
        "                 [vector1Y_norm, vector2Y_norm]], dtype=float)"
      ],
      "metadata": {
        "id": "BVD5A0iiyiBP"
      },
      "execution_count": null,
      "outputs": []
    },
    {
      "cell_type": "code",
      "source": [
        "print(p)"
      ],
      "metadata": {
        "colab": {
          "base_uri": "https://localhost:8080/"
        },
        "id": "MyElB44BzAlu",
        "outputId": "b34e7a8d-0fe9-474a-fca3-ad38514a16f8"
      },
      "execution_count": null,
      "outputs": [
        {
          "output_type": "stream",
          "name": "stdout",
          "text": [
            "[[ 0.60219551  0.79834865]\n",
            " [ 0.79834865 -0.60219551]]\n"
          ]
        }
      ]
    },
    {
      "cell_type": "markdown",
      "source": [
        "# Step9 : Calculate Principal Components"
      ],
      "metadata": {
        "id": "_ZnZkDWVzD4l"
      }
    },
    {
      "cell_type": "code",
      "source": [
        "data_transformed = center_data @ p"
      ],
      "metadata": {
        "id": "3n8K9hHOzTmD"
      },
      "execution_count": null,
      "outputs": []
    },
    {
      "cell_type": "code",
      "source": [
        "print(data_transformed)"
      ],
      "metadata": {
        "colab": {
          "base_uri": "https://localhost:8080/"
        },
        "id": "BQ7TikWx0CF5",
        "outputId": "5b1db644-282c-4498-8dd3-62c9c2b3fd3c"
      },
      "execution_count": null,
      "outputs": [
        {
          "output_type": "stream",
          "name": "stdout",
          "text": [
            "[[ 4.88593133  0.07229182]\n",
            " [ 0.88045198 -1.91671174]\n",
            " [ 0.68429884 -0.51616758]\n",
            " [-3.51733364 -1.10462699]\n",
            " [-1.30470472  3.48931177]\n",
            " [ 0.48814571  0.88437658]\n",
            " [-2.11678948 -0.90847385]]\n"
          ]
        }
      ]
    },
    {
      "cell_type": "markdown",
      "source": [
        "# Step10 : Interpret the PCA"
      ],
      "metadata": {
        "id": "tnwTsp4j6X9d"
      }
    },
    {
      "cell_type": "code",
      "source": [
        "def Calculate_Variance(data):\n",
        "    if len(data) < 2:\n",
        "        raise ValueError(\"Variance requires at least two data points\")\n",
        "\n",
        "    mean = sum(data) / len(data)\n",
        "    squared_diffs = [(x - mean) ** 2 for x in data]\n",
        "    variance = sum(squared_diffs) / (len(data) - 1)\n",
        "    return variance"
      ],
      "metadata": {
        "id": "ge4k6NjW6iUu"
      },
      "execution_count": null,
      "outputs": []
    },
    {
      "cell_type": "code",
      "source": [
        "def Get_Columns(matrix):\n",
        "    x1 = []\n",
        "    x2 = []\n",
        "    for row in matrix:\n",
        "        x1.append(row[0])\n",
        "        x2.append(row[1])\n",
        "    return x1, x2"
      ],
      "metadata": {
        "id": "ZUhET4GT68Av"
      },
      "execution_count": null,
      "outputs": []
    },
    {
      "cell_type": "code",
      "source": [
        "x1, x2 = Get_Columns(center_data)\n",
        "xb1, xb2 = Get_Columns(data_transformed)\n",
        "print(f'first column variance : {Calculate_Variance(x1)}')\n",
        "print(f'second column variance : {Calculate_Variance(x2)}')\n",
        "print(f'first transformed column : {Calculate_Variance(xb1)}')\n",
        "print(f'second transformed column : {Calculate_Variance(xb2)}')"
      ],
      "metadata": {
        "colab": {
          "base_uri": "https://localhost:8080/"
        },
        "id": "d2cGBoEjWX61",
        "outputId": "b373be83-9791-439e-8422-b9c04f725cc9"
      },
      "execution_count": null,
      "outputs": [
        {
          "output_type": "stream",
          "name": "stdout",
          "text": [
            "first column variance : 4.666666666666667\n",
            "second column variance : 5.80952380952381\n",
            "first transformed column : 7.31812663503253\n",
            "second transformed column : 3.158063841157947\n"
          ]
        }
      ]
    },
    {
      "cell_type": "code",
      "source": [
        "fig, axes = plt.subplots(1, 2, figsize=(10, 5))\n",
        "\n",
        "axes[0].scatter(x1, x2, color='blue', label='Original data')\n",
        "axes[0].set_xlim(-5, 5)\n",
        "axes[0].set_ylim(-5, 5)\n",
        "axes[0].set_xlabel('x1')\n",
        "axes[0].set_ylabel('x2')\n",
        "axes[0].set_title('Original Data')\n",
        "axes[0].grid(True)\n",
        "axes[0].legend()\n",
        "\n",
        "axes[1].scatter(xb1, xb2, color='red', label='Transformed data')\n",
        "axes[1].set_xlim(-5, 5)\n",
        "axes[1].set_ylim(-5, 5)\n",
        "axes[1].set_xlabel('xb1 Highest Variance')\n",
        "axes[1].set_ylabel('xb2 Lowest Variance')\n",
        "axes[1].set_title('Transformed Data')\n",
        "axes[1].grid(True)\n",
        "axes[1].legend()\n",
        "\n",
        "plt.tight_layout()\n",
        "plt.show()"
      ],
      "metadata": {
        "colab": {
          "base_uri": "https://localhost:8080/",
          "height": 527
        },
        "id": "nujl-wtnZXVx",
        "outputId": "530fbc0e-08c6-492f-dc71-727ec1e5369f"
      },
      "execution_count": null,
      "outputs": [
        {
          "output_type": "display_data",
          "data": {
            "text/plain": [
              "<Figure size 1000x500 with 2 Axes>"
            ],
            "image/png": "[encoded data removed]"
          },
          "metadata": {}
        }
      ]
    },
    {
      "cell_type": "markdown",
      "source": [
        "# Step11 : Dimension Reduction"
      ],
      "metadata": {
        "id": "1Q2FbjAJ6c-3"
      }
    },
    {
      "cell_type": "code",
      "source": [
        "print(xb1)"
      ],
      "metadata": {
        "id": "tgZrb5LH6iu7",
        "colab": {
          "base_uri": "https://localhost:8080/"
        },
        "outputId": "cb35db93-ac69-4c8b-e0f2-e2429671b844"
      },
      "execution_count": null,
      "outputs": [
        {
          "output_type": "stream",
          "name": "stdout",
          "text": [
            "[4.885931325023751, 0.8804519762138848, 0.6842988412423097, -3.5173336425391324, -1.3047047249328965, 0.4881457062707345, -2.1167894812786514]\n"
          ]
        }
      ]
    }
  ]
}